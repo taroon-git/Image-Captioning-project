{
 "cells": [
  {
   "cell_type": "code",
   "execution_count": 31,
   "id": "e6ca3b12-ec40-44b2-a087-6fcd40209155",
   "metadata": {},
   "outputs": [],
   "source": [
    "import tensorflow as tf\n",
    "from tensorflow.keras.preprocessing.image import load_img,img_to_array\n",
    "import numpy as np\n",
    "from tensorflow.keras.preprocessing.sequence import pad_sequences"
   ]
  },
  {
   "cell_type": "code",
   "execution_count": 3,
   "id": "84e3f9b8-d889-450e-a4af-148fe48ddabf",
   "metadata": {},
   "outputs": [],
   "source": [
    "model = tf.keras.models.load_model('model.keras')"
   ]
  },
  {
   "cell_type": "code",
   "execution_count": 5,
   "id": "6029038a-7e49-4469-810e-507a125a5670",
   "metadata": {},
   "outputs": [],
   "source": [
    "fe = tf.keras.models.load_model('fe.keras')"
   ]
  },
  {
   "cell_type": "code",
   "execution_count": 7,
   "id": "8c90e998-6d8d-4395-98af-a063b4771a11",
   "metadata": {},
   "outputs": [],
   "source": [
    "import pickle\n",
    "with open('tokenizer.pkl', 'rb') as tokenizer_file:\n",
    "    tokenizer = pickle.load(tokenizer_file)"
   ]
  },
  {
   "cell_type": "code",
   "execution_count": 23,
   "id": "b140dea5-029e-4812-9765-1db9fa0c3296",
   "metadata": {},
   "outputs": [],
   "source": [
    "def generate_caption(caption_model, tokenizer, feature_extractor, image_path, max_length):\n",
    "    \"\"\"\n",
    "    Generate a caption for a given image.\n",
    "    \n",
    "    Parameters:\n",
    "        caption_model: The trained captioning model.\n",
    "        tokenizer: The tokenizer used during training.\n",
    "        feature_extractor: The feature extractor model.\n",
    "        image_path: Path to the input image.\n",
    "        max_length: Maximum length of the caption.\n",
    "        \n",
    "    Returns:\n",
    "        str: Generated caption.\n",
    "    \"\"\"\n",
    "    # Step 1: Extract image features using the feature extractor\n",
    "    img = load_img(image_path, target_size=(224, 224))  # Load and resize the image\n",
    "    img = img_to_array(img) / 255.0  # Convert to array and normalize\n",
    "    img = np.expand_dims(img, axis=0)  # Add batch dimension\n",
    "    feature = feature_extractor.predict(img, verbose=0)  # Extract features\n",
    "\n",
    "    # Step 2: Generate the caption using the caption model\n",
    "    sequence = tokenizer.texts_to_sequences([\"startseq\"])[0]  # Start with the start token\n",
    "    for _ in range(max_length):\n",
    "        padded_sequence = pad_sequences([sequence], maxlen=max_length)  # Pad the sequence\n",
    "        y_pred = caption_model.predict([feature, padded_sequence], verbose=0)  # Predict the next word\n",
    "        next_word_index = np.argmax(y_pred)  # Get the word index with highest probability\n",
    "        next_word = tokenizer.index_word.get(next_word_index)  # Map index to word\n",
    "\n",
    "        if next_word is None or next_word == \"endseq\":  # Stop if end token is generated\n",
    "            break\n",
    "\n",
    "        sequence.append(next_word_index)  # Add word index to sequence\n",
    "\n",
    "    # Remove startseq and endseq tokens for the final caption\n",
    "    caption = \" \".join([tokenizer.index_word[idx] for idx in sequence \n",
    "                        if idx > 0 and idx not in [tokenizer.word_index['startseq'], tokenizer.word_index['endseq']]])\n",
    "    return caption"
   ]
  },
  {
   "cell_type": "code",
   "execution_count": 35,
   "id": "7ed6fd42-b70c-4545-a632-9387a7b0671d",
   "metadata": {},
   "outputs": [
    {
     "name": "stdout",
     "output_type": "stream",
     "text": [
      "Predicted Caption: car is driving on the track\n"
     ]
    }
   ],
   "source": [
    "# Example usage\n",
    "image_file = 'race.jpg'\n",
    "max_length = 34# Replace with your image path\n",
    "predicted_caption = generate_caption(model, tokenizer, fe, image_file, max_length)\n",
    "print(\"Predicted Caption:\", predicted_caption)"
   ]
  },
  {
   "cell_type": "code",
   "execution_count": 73,
   "id": "aace0c7e-42bb-4e14-afd9-383cf7af7edb",
   "metadata": {},
   "outputs": [
    {
     "name": "stdout",
     "output_type": "stream",
     "text": [
      "Predicted Caption: surfer in wetsuit is surfing\n"
     ]
    }
   ],
   "source": [
    "# Example usage\n",
    "image_file = r'static/images/surf.jpg'\n",
    "max_length = 34# Replace with your image path\n",
    "predicted_caption = generate_caption(model, tokenizer, fe, image_file, max_length)\n",
    "print(\"Predicted Caption:\", predicted_caption)"
   ]
  },
  {
   "cell_type": "code",
   "execution_count": 43,
   "id": "02e42cd8-30aa-493d-826c-42e40b8d632d",
   "metadata": {},
   "outputs": [
    {
     "name": "stdout",
     "output_type": "stream",
     "text": [
      "Predicted Caption: tennis player is playing tennis\n"
     ]
    }
   ],
   "source": [
    "# Example usage\n",
    "image_file = 'c.jpg'\n",
    "max_length = 34# Replace with your image path\n",
    "predicted_caption = generate_caption(model, tokenizer, fe, image_file, max_length)\n",
    "print(\"Predicted Caption:\", predicted_caption)"
   ]
  },
  {
   "cell_type": "code",
   "execution_count": 47,
   "id": "95e56ea0-51cd-4957-84b3-1b1981b0f45b",
   "metadata": {},
   "outputs": [
    {
     "name": "stdout",
     "output_type": "stream",
     "text": [
      "Predicted Caption: the bird is flying through the air\n"
     ]
    }
   ],
   "source": [
    "# Example usage\n",
    "image_file = 'bird.jpg'\n",
    "max_length = 34# Replace with your image path\n",
    "predicted_caption = generate_caption(model, tokenizer, fe, image_file, max_length)\n",
    "print(\"Predicted Caption:\", predicted_caption)"
   ]
  },
  {
   "cell_type": "code",
   "execution_count": 49,
   "id": "d36c4034-6f44-4dad-9953-d80c53443156",
   "metadata": {},
   "outputs": [
    {
     "name": "stdout",
     "output_type": "stream",
     "text": [
      "Predicted Caption: black dog is flying through the air\n"
     ]
    }
   ],
   "source": [
    "# Example usage\n",
    "image_file = 'bird2.webp'\n",
    "max_length = 34# Replace with your image path\n",
    "predicted_caption = generate_caption(model, tokenizer, fe, image_file, max_length)\n",
    "print(\"Predicted Caption:\", predicted_caption)"
   ]
  },
  {
   "cell_type": "code",
   "execution_count": 59,
   "id": "aa326ccf-06c1-49d2-a1c7-c2fb2455f4ea",
   "metadata": {},
   "outputs": [
    {
     "name": "stdout",
     "output_type": "stream",
     "text": [
      "Predicted Caption: dog is running through the grass\n"
     ]
    }
   ],
   "source": [
    "# Example usage\n",
    "image_file = 'cat.jpg'\n",
    "max_length = 34# Replace with your image path\n",
    "predicted_caption = generate_caption(model, tokenizer, fe, image_file, max_length)\n",
    "print(\"Predicted Caption:\", predicted_caption)"
   ]
  },
  {
   "cell_type": "code",
   "execution_count": 61,
   "id": "38d1e95a-6277-43b8-831c-9da6937a0ad8",
   "metadata": {},
   "outputs": [
    {
     "name": "stdout",
     "output_type": "stream",
     "text": [
      "Predicted Caption: dog is running through the grass\n"
     ]
    }
   ],
   "source": [
    "# Example usage\n",
    "image_file = 'dc.jpg'\n",
    "max_length = 34# Replace with your image path\n",
    "predicted_caption = generate_caption(model, tokenizer, fe, image_file, max_length)\n",
    "print(\"Predicted Caption:\", predicted_caption)"
   ]
  },
  {
   "cell_type": "code",
   "execution_count": null,
   "id": "0d986c65-cabe-4a6e-b51b-14e509f04fb4",
   "metadata": {},
   "outputs": [],
   "source": []
  }
 ],
 "metadata": {
  "kernelspec": {
   "display_name": "Python 3 (ipykernel)",
   "language": "python",
   "name": "python3"
  },
  "language_info": {
   "codemirror_mode": {
    "name": "ipython",
    "version": 3
   },
   "file_extension": ".py",
   "mimetype": "text/x-python",
   "name": "python",
   "nbconvert_exporter": "python",
   "pygments_lexer": "ipython3",
   "version": "3.12.4"
  }
 },
 "nbformat": 4,
 "nbformat_minor": 5
}
